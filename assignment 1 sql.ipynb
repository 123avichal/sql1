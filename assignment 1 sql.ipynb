{
 "cells": [
  {
   "cell_type": "markdown",
   "id": "067be6d1-6d2a-4b7c-944f-a8899d7813ab",
   "metadata": {},
   "source": [
    "Q1. What is a database? Differentiate between SQL and NoSQL databases."
   ]
  },
  {
   "cell_type": "markdown",
   "id": "608e9382-c393-4cb7-8fb0-d9536cc48aca",
   "metadata": {},
   "source": [
    "ans1 =organised collection of data accessed and stored in computer system manage through dbms data base management system\n",
    "however there are diffrent types relational database(contain set of table),distributed(which stored in multiple physical location),cloud\n",
    "\n",
    "diff b/w SQL and no SQL     \n",
    "SQL\n",
    "1 sql it is relational database whereas no sql is non relational database\n",
    "2 sql have preffered schema while no sql have dynamic schema for unstrcured data\n",
    "3 sql is vertically scalable while no sql is horoizontally scalable\n",
    "4 sql is table based while no sql is document based where json file submit\n",
    "5 sql is better for multi row transaction while no sql is unstr \n"
   ]
  },
  {
   "cell_type": "markdown",
   "id": "69ae0bb9-3bb1-436a-a95c-24ee8384a22e",
   "metadata": {},
   "source": [
    "Q2. What is DDL? Explain why CREATE, DROP, ALTER, and TRUNCATE are used with an example."
   ]
  },
  {
   "cell_type": "markdown",
   "id": "abd3b658-e13c-4bd6-979d-2fc08b5db04a",
   "metadata": {},
   "source": [
    "ans - ddl know as data defination language use to change the struc of database object\n",
    "\n",
    "CREATE :This command is used to create a new table in SQL. The user has to give information like table name, column names, and their datatypes\n",
    " CREATE TABLE table_name(c1 INT,c2 FLOAT,c3 VARCHAR(10))\n",
    " \n",
    " ALTER :This command is used to add, delete or change columns in the existing table. The user needs to know the existing table name and can do add, delete or modify tasks easily\n",
    " \n",
    " ALTER TABLE Student_info\n",
    "ADD CGPA number;\n",
    "\n",
    "DROP :This command is used to remove an existing table along with its structure from the Database.\n",
    "\n",
    "DROP TABLE table_name;\n",
    " \n",
    " TRUNCATE :This command is used to remove all rows from the table, but the structure of the table still\n",
    " \n",
    " TRUNCATE TABLE table_name;\n",
    " "
   ]
  },
  {
   "cell_type": "markdown",
   "id": "1ed6d82d-a86e-4af1-9d66-5a68641b337d",
   "metadata": {},
   "source": [
    "Q3. What is DML? Explain INSERT, UPDATE, and DELETE with an example."
   ]
  },
  {
   "cell_type": "markdown",
   "id": "be6ae25d-999d-4d52-ab24-1fc5dd883eab",
   "metadata": {},
   "source": [
    "ANS - DML is data manipulation language use to manipulate the data in databas belong to DML\n",
    "\n",
    "UPDATE Command – This command is used to alter existing table records. Within a table, it modifies data from one or more records. This command is used to alter the data which is already present in a table.\n",
    "\n",
    "DELETE Command –It deletes all archives from a table. This command is used to erase some or all of the previous table’s records. If we do not specify the ‘WHERE’ condition then all the rows would be erased or deleted.\n",
    "\n",
    "INSERT Command –This command is used to enter the information or values into a row. We can connect one or more records to a single table within a repository using this instruction. This is often used to connect an unused tag to the documents.\n"
   ]
  },
  {
   "cell_type": "markdown",
   "id": "a027bf23-1ed5-44bb-8092-58dcb315777b",
   "metadata": {},
   "source": [
    "Q4. What is DQL? Explain SELECT with an example."
   ]
  },
  {
   "cell_type": "markdown",
   "id": "6f9f4edb-5b0e-4efb-a0e2-b39ac98677e6",
   "metadata": {},
   "source": [
    "ANS - DQL data query language performing query on data within schem obj . component of sql statement  allow getting data from database and impose order upon it\n",
    " SELECT is used to retrieve the data  from database\n",
    " \n",
    " select * from name_of_database. table_name;"
   ]
  },
  {
   "cell_type": "markdown",
   "id": "17c2ce01-d859-42c2-96af-4a15d62411d3",
   "metadata": {},
   "source": [
    "Q5. Explain Primary Key and Foreign Key."
   ]
  },
  {
   "cell_type": "markdown",
   "id": "c80b9b3a-761e-45e0-8e80-2dff1a32f565",
   "metadata": {},
   "source": [
    "A primary key generally focuses on the uniqueness of the table. It is a column or a set of columns that uniquely distinguishes every row in the database. It means it should not have any duplicate value. Also, it doesn’t contain a NULL value.\n",
    " \n",
    " A foreign key is generally used to build a relationship between the two tables. The major purpose of the foreign key is to sustain data integrity between two separate instances of an entity."
   ]
  },
  {
   "cell_type": "markdown",
   "id": "ed1e185a-f589-4fa1-88f1-ff73f47ec832",
   "metadata": {},
   "source": [
    "Q6. Write a python code to connect MySQL to python. Explain the cursor() and execute() method."
   ]
  },
  {
   "cell_type": "code",
   "execution_count": null,
   "id": "54def0ae-dae3-493c-b3d7-248f457eac33",
   "metadata": {},
   "outputs": [],
   "source": [
    "import mysql.connector\n",
    "\n",
    "mydb = mysql.connector.connect(\n",
    "  host=\"localhost\",\n",
    "  user=\"abc\",\n",
    "  password=\"password\"\n",
    ")\n",
    "\n",
    "mycursor = mydb.cursor()\n",
    "mycursor.execute(\"SHOW DATABASES\")\n",
    "for x in mycursor:\n",
    "  print(x)\n",
    "  \n",
    "  \n",
    "  \n",
    "  \n",
    "  \n",
    "#  A cursor is an object which helps to execute the query and fetch the records from the database"
   ]
  },
  {
   "cell_type": "markdown",
   "id": "602b64ca-381d-4b67-a47d-c70d830fa1ad",
   "metadata": {},
   "source": [
    "Q7. Give the order of execution of SQL clauses in an SQL query."
   ]
  },
  {
   "cell_type": "markdown",
   "id": "bc185314-014b-4fd0-886a-b5cf549a653c",
   "metadata": {},
   "source": [
    "1 from \n",
    "2 where \n",
    "3 group by\n",
    "4 having \n",
    "5 select\n",
    "6 order by\n",
    "7 limit"
   ]
  },
  {
   "cell_type": "code",
   "execution_count": null,
   "id": "63b7b57b-b3c8-42da-972e-a7ff69b9f10c",
   "metadata": {},
   "outputs": [],
   "source": []
  }
 ],
 "metadata": {
  "kernelspec": {
   "display_name": "Python 3 (ipykernel)",
   "language": "python",
   "name": "python3"
  },
  "language_info": {
   "codemirror_mode": {
    "name": "ipython",
    "version": 3
   },
   "file_extension": ".py",
   "mimetype": "text/x-python",
   "name": "python",
   "nbconvert_exporter": "python",
   "pygments_lexer": "ipython3",
   "version": "3.10.8"
  }
 },
 "nbformat": 4,
 "nbformat_minor": 5
}
